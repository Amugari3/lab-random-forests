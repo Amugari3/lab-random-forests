{
 "cells": [
  {
   "cell_type": "code",
   "execution_count": 1,
   "metadata": {},
   "outputs": [],
   "source": [
    "import pandas as pd"
   ]
  },
  {
   "cell_type": "code",
   "execution_count": 2,
   "metadata": {},
   "outputs": [
    {
     "data": {
      "text/plain": [
       "(  STATE  CLUSTER HOMEOWNR GENDER  DATASRCE RFA_2R RFA_2A GEOCODE2 DOMAIN_A  \\\n",
       " 0    IL       36        H      F         3      L      E        C        T   \n",
       " 1    CA       14        H      M         3      L      G        A        S   \n",
       " 2    NC       43        U      M         3      L      E        C        R   \n",
       " 3    CA       44        U      F         3      L      E        C        R   \n",
       " 4    FL       16        H      F         3      L      F        A        S   \n",
       " \n",
       "    DOMAIN_B  ...  DOB_YR  DOB_MM  MINRDATE_YR  MINRDATE_MM  MAXRDATE_YR  \\\n",
       " 0         2  ...      37      12           92            8           94   \n",
       " 1         1  ...      52       2           93           10           95   \n",
       " 2         2  ...       0       2           91           11           92   \n",
       " 3         2  ...      28       1           87           11           94   \n",
       " 4         2  ...      20       1           93           10           96   \n",
       " \n",
       "    MAXRDATE_MM  LASTDATE_YR  LASTDATE_MM  FIRSTDATE_YR  FIRSTDATE_MM  \n",
       " 0            2           95           12            89            11  \n",
       " 1           12           95           12            93            10  \n",
       " 2            7           95           12            90             1  \n",
       " 3           11           95           12            87             2  \n",
       " 4            1           96            1            79             3  \n",
       " \n",
       " [5 rows x 22 columns],\n",
       "    TCODE        AGE  INCOME  WEALTH1  HIT  MALEMILI  MALEVET  VIETVETS  \\\n",
       " 0      0  60.000000       5        9    0         0       39        34   \n",
       " 1      1  46.000000       6        9   16         0       15        55   \n",
       " 2      1  61.611649       3        1    2         0       20        29   \n",
       " 3      0  70.000000       1        4    2         0       23        14   \n",
       " 4      0  78.000000       3        2   60         1       28         9   \n",
       " \n",
       "    WWIIVETS  LOCALGOV  ...  CARDGIFT  MINRAMNT  MAXRAMNT  LASTGIFT  TIMELAG  \\\n",
       " 0        18        10  ...        14       5.0      12.0      10.0        4   \n",
       " 1        11         6  ...         1      10.0      25.0      25.0       18   \n",
       " 2        33         6  ...        14       2.0      16.0       5.0       12   \n",
       " 3        31         3  ...         7       2.0      11.0      10.0        9   \n",
       " 4        53        26  ...         8       3.0      15.0      15.0       14   \n",
       " \n",
       "      AVGGIFT  CONTROLN  HPHONE_D  RFA_2F  CLUSTER2  \n",
       " 0   7.741935     95515         0       4        39  \n",
       " 1  15.666667    148535         0       2         1  \n",
       " 2   7.481481     15078         1       4        60  \n",
       " 3   6.812500    172556         1       4        41  \n",
       " 4   6.864865      7112         1       2        26  \n",
       " \n",
       " [5 rows x 315 columns],\n",
       "    TARGET_B  TARGET_D\n",
       " 0         0       0.0\n",
       " 1         0       0.0\n",
       " 2         0       0.0\n",
       " 3         0       0.0\n",
       " 4         0       0.0)"
      ]
     },
     "execution_count": 2,
     "metadata": {},
     "output_type": "execute_result"
    }
   ],
   "source": [
    "# Cargar los archivos CSV proporcionados\n",
    "categorical_df = pd.read_csv(r'C:\\Users\\alvar\\Downloads/categorical.csv')\n",
    "numerical_df = pd.read_csv(r'C:\\Users\\alvar\\Downloads/numerical.csv')\n",
    "target_df = pd.read_csv(r'C:\\Users\\alvar\\Downloads/target.csv')\n",
    "\n",
    "# Mostrar las primeras filas de cada DataFrame\n",
    "categorical_df.head(), numerical_df.head(), target_df.head()"
   ]
  },
  {
   "cell_type": "code",
   "execution_count": 3,
   "metadata": {},
   "outputs": [],
   "source": [
    "# Concatenar los 3 dataframes\n",
    "df = pd.concat([categorical_df, numerical_df, target_df], axis=1)"
   ]
  },
  {
   "cell_type": "code",
   "execution_count": 5,
   "metadata": {},
   "outputs": [],
   "source": [
    "from sklearn.preprocessing import OneHotEncoder\n",
    "from sklearn.compose import ColumnTransformer\n",
    "\n",
    "# Identificar las columnas categóricas\n",
    "categorical_cols = categorical_df.columns.tolist()\n",
    "\n",
    "# Configurar el preprocesador para codificar las variables categóricas\n",
    "preprocessor = ColumnTransformer(\n",
    "    transformers=[\n",
    "        ('cat', OneHotEncoder(handle_unknown='ignore'), categorical_cols)],\n",
    "    remainder='passthrough'  # Mantiene las columnas numéricas tal como están\n",
    ")\n",
    "\n",
    "# Aplicar el preprocesador a todo el conjunto de datos\n",
    "X = df.drop(columns=['TARGET_B'])  # Reemplaza 'target_column_name' con el nombre real de tu columna objetivo\n",
    "y = df['TARGET_B']\n",
    "\n",
    "X_encoded = preprocessor.fit_transform(X)\n"
   ]
  },
  {
   "cell_type": "code",
   "execution_count": 6,
   "metadata": {},
   "outputs": [],
   "source": [
    "from imblearn.over_sampling import SMOTE\n",
    "from sklearn.model_selection import train_test_split\n",
    "\n",
    "# Dividir los datos en entrenamiento y prueba\n",
    "X_train, X_test, y_train, y_test = train_test_split(X_encoded, y, test_size=0.3, random_state=42)\n",
    "\n",
    "# Aplicar SMOTE al conjunto de entrenamiento\n",
    "smote = SMOTE(random_state=42)\n",
    "X_train_smote, y_train_smote = smote.fit_resample(X_train, y_train)"
   ]
  },
  {
   "cell_type": "code",
   "execution_count": 7,
   "metadata": {},
   "outputs": [],
   "source": [
    "from sklearn.ensemble import RandomForestClassifier\n",
    "from sklearn.metrics import accuracy_score\n",
    "\n",
    "# Crear y entrenar el modelo de Random Forest\n",
    "rf = RandomForestClassifier(random_state=42)\n",
    "rf.fit(X_train_smote, y_train_smote)\n",
    "\n",
    "# Hacer predicciones en el conjunto de prueba\n",
    "y_pred = rf.predict(X_test)\n",
    "\n",
    "# Evaluar el modelo\n",
    "accuracy = accuracy_score(y_test, y_pred)"
   ]
  },
  {
   "cell_type": "code",
   "execution_count": 8,
   "metadata": {},
   "outputs": [
    {
     "data": {
      "text/plain": [
       "0.9930477920626049"
      ]
     },
     "execution_count": 8,
     "metadata": {},
     "output_type": "execute_result"
    }
   ],
   "source": [
    "accuracy"
   ]
  }
 ],
 "metadata": {
  "kernelspec": {
   "display_name": "Python 3",
   "language": "python",
   "name": "python3"
  },
  "language_info": {
   "codemirror_mode": {
    "name": "ipython",
    "version": 3
   },
   "file_extension": ".py",
   "mimetype": "text/x-python",
   "name": "python",
   "nbconvert_exporter": "python",
   "pygments_lexer": "ipython3",
   "version": "3.11.9"
  }
 },
 "nbformat": 4,
 "nbformat_minor": 2
}
